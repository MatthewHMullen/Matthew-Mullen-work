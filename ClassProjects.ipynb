{
  "nbformat": 4,
  "nbformat_minor": 0,
  "metadata": {
    "colab": {
      "provenance": [],
      "authorship_tag": "ABX9TyM2JcGDwAPpjTl263kqXD1o",
      "include_colab_link": true
    },
    "kernelspec": {
      "name": "python3",
      "display_name": "Python 3"
    },
    "language_info": {
      "name": "python"
    }
  },
  "cells": [
    {
      "cell_type": "markdown",
      "metadata": {
        "id": "view-in-github",
        "colab_type": "text"
      },
      "source": [
        "<a href=\"https://colab.research.google.com/github/MatthewHMullen/Matthew-Mullen-work/blob/main/ClassProjects.ipynb\" target=\"_parent\"><img src=\"https://colab.research.google.com/assets/colab-badge.svg\" alt=\"Open In Colab\"/></a>"
      ]
    },
    {
      "cell_type": "markdown",
      "source": [
        "Rock Paper scissors game"
      ],
      "metadata": {
        "id": "FUjwMxY0mydp"
      }
    },
    {
      "cell_type": "code",
      "execution_count": null,
      "metadata": {
        "colab": {
          "base_uri": "https://localhost:8080/"
        },
        "id": "zzHx2P75FhqZ",
        "outputId": "2e066f7c-0d49-4d87-883d-14a4bb74dc00"
      },
      "outputs": [
        {
          "output_type": "stream",
          "name": "stdout",
          "text": [
            "Do you want to play Rock Paper Scossors? y/n: y\n",
            "Enter your Option; Rock, Paper, or Scissors: Paper\n",
            "You Win!\n",
            "Do you want to play Rock Paper Scossors again? y/n: y\n",
            "Enter your Option; Rock, Paper, or Scissors: Rock\n",
            "Its a Tie\n",
            "Do you want to play Rock Paper Scossors again? y/n: n\n",
            "Play again soon!\n"
          ]
        }
      ],
      "source": [
        "import random\n",
        "pc_choice = random.choice(['Rock','Paper','Scissors'])\n",
        "\n",
        "userinput = input(\"Do you want to play Rock Paper Scissors? y/n: \")\n",
        "\n",
        "while userinput == \"y\" :\n",
        "\n",
        "  userchoice = input(\"Enter your Option; Rock, Paper, or Scissors: \")\n",
        "\n",
        "  if userchoice == pc_choice:\n",
        "    print('Its a Tie')\n",
        "\n",
        "  elif ((userchoice == \"Rock\" and pc_choice == \"Scissors\") or\n",
        "        (userchoice == \"Scissors\" and pc_choice == \"Paper\") or\n",
        "        (userchoice == \"Paper\" and pc_choice == \"Rock\")):\n",
        "    print ('You Win!')\n",
        "\n",
        "  else:\n",
        "    print('Computer Wins :(')\n",
        "\n",
        "  userinput = input(\"Do you want to play Rock Paper Scissors again? y/n: \")\n",
        "\n",
        "else:\n",
        "  print(\"Play again soon!\")\n",
        "\n",
        "\n",
        "\n",
        "\n"
      ]
    },
    {
      "cell_type": "code",
      "source": [
        "!pip install ColabTurtlePlus"
      ],
      "metadata": {
        "colab": {
          "base_uri": "https://localhost:8080/"
        },
        "id": "54OIQ5gKhdil",
        "outputId": "d08f540b-3ddf-442e-a4fb-7ae7c187785c"
      },
      "execution_count": null,
      "outputs": [
        {
          "output_type": "stream",
          "name": "stdout",
          "text": [
            "Collecting ColabTurtlePlus\n",
            "  Downloading ColabTurtlePlus-2.0.1-py3-none-any.whl (31 kB)\n",
            "Installing collected packages: ColabTurtlePlus\n",
            "Successfully installed ColabTurtlePlus-2.0.1\n"
          ]
        }
      ]
    },
    {
      "cell_type": "code",
      "source": [
        "from ColabTurtlePlus.Turtle import *\n",
        "\n",
        "clearscreen()\n",
        "\n",
        "color('green','blue')\n",
        "begin_fill()\n",
        "jumpto(0,0)\n",
        "\n",
        "for var in range(4):\n",
        "  forward(100)\n",
        "  left(90)\n",
        "\n",
        "\n",
        "end_fill()"
      ],
      "metadata": {
        "colab": {
          "base_uri": "https://localhost:8080/",
          "height": 621
        },
        "id": "4B_2IWUph-Gq",
        "outputId": "baacd0c9-fda8-4f06-dcf5-a99aff841d8d"
      },
      "execution_count": null,
      "outputs": [
        {
          "output_type": "display_data",
          "data": {
            "text/plain": [
              "<IPython.core.display.HTML object>"
            ],
            "text/html": [
              "\n",
              "      <svg width=\"800\" height=\"600\">  \n",
              "        <rect width=\"100%\" height=\"100%\" style=\"fill:white;stroke:;stroke-width:1\"/>\n",
              "        \n",
              "        \n",
              "        <path fill-rule=\"evenodd\" fill-opacity=\"1\" d=\"M 400.0 300.0  L 400.0 300.0  L 500.0 300.0  L 500.0 200.0  L 400.0 200.0  L 400.0 300.0 \" stroke-linecap=\"round\" style=\"stroke:green;stroke-width:1\" fill=\"blue\" />\n",
              "        \n",
              "        \n",
              "        <g id=\"classic\" visibility=\"visible\" transform=\"rotate(-90,400.0,300.0) translate(400.0, 300.0)\">\n",
              "<polygon points=\"-5,-4.5 0,-2.5 5,-4.5 0,4.5\" transform=\"skewX(0) scale(1,1)\" style=\"stroke:green;fill:blue;stroke-width:1\" />\n",
              "</g>\n",
              "      </svg>\n",
              "    "
            ]
          },
          "metadata": {}
        }
      ]
    },
    {
      "cell_type": "markdown",
      "source": [
        "Parking Garage Fee Code"
      ],
      "metadata": {
        "id": "X_7kxAiI1bmX"
      }
    },
    {
      "cell_type": "code",
      "source": [
        "\n",
        "for hour in range (1,9):\n",
        "  hourly_fee = 2.50\n",
        "  base_fee = 5.0\n",
        "  fee = base_fee + hour * hourly_fee\n",
        "  if fee < 10.0:\n",
        "    fee = 10.0\n",
        "  elif fee > 20.0:\n",
        "    fee = 20.0\n",
        "  print(hour, 'hrs', '= $',fee)\n",
        "\n"
      ],
      "metadata": {
        "colab": {
          "base_uri": "https://localhost:8080/"
        },
        "id": "Pb3toKyc1hD8",
        "outputId": "07b4b17f-a917-4315-b796-7147e419da40"
      },
      "execution_count": null,
      "outputs": [
        {
          "output_type": "stream",
          "name": "stdout",
          "text": [
            "1 hrs = $ 10.0\n",
            "2 hrs = $ 10.0\n",
            "3 hrs = $ 12.5\n",
            "4 hrs = $ 15.0\n",
            "5 hrs = $ 17.5\n",
            "6 hrs = $ 20.0\n",
            "7 hrs = $ 20.0\n",
            "8 hrs = $ 20.0\n"
          ]
        }
      ]
    },
    {
      "cell_type": "markdown",
      "source": [
        "Movie theater manager in class example: Advertising Cost"
      ],
      "metadata": {
        "id": "8AkMD01h70JX"
      }
    },
    {
      "cell_type": "code",
      "source": [
        "for ad_cost in range (0,201,25):\n",
        "  fixed_cost = 200\n",
        "  base_att = 20\n",
        "  ticket_price = 10\n",
        "  add_att = 2 * round(ad_cost ** .5)\n",
        "  profit = (base_att * ticket_price) + (add_att * ticket_price) - fixed_cost - ad_cost\n",
        "  print(ad_cost, profit)"
      ],
      "metadata": {
        "colab": {
          "base_uri": "https://localhost:8080/"
        },
        "id": "d_6S_LP678T9",
        "outputId": "e0c3ad20-0425-4103-c66c-1571cf0e43a6"
      },
      "execution_count": null,
      "outputs": [
        {
          "output_type": "stream",
          "name": "stdout",
          "text": [
            "0 0\n",
            "25 75\n",
            "50 90\n",
            "75 105\n",
            "100 100\n",
            "125 95\n",
            "150 90\n",
            "175 85\n",
            "200 80\n"
          ]
        }
      ]
    },
    {
      "cell_type": "markdown",
      "source": [
        "Code a calculator"
      ],
      "metadata": {
        "id": "RCam3cL1pTFh"
      }
    },
    {
      "cell_type": "code",
      "source": [
        "while True:\n",
        "  num1 = float(input(\"First Number: \"))\n",
        "  operator = input(\"Mathematical operator: \")\n",
        "\n",
        "  if operator == 'break':\n",
        "    break\n",
        "\n",
        "  num2 = float(input(\"Second Number: \"))\n",
        "\n",
        "  if operator == '+':\n",
        "    print(num1 + num2)\n",
        "\n",
        "  elif operator == '-':\n",
        "    print(num1 - num2)\n",
        "\n",
        "  elif operator == '*':\n",
        "    print(num1 * num2)\n",
        "\n",
        "  elif operator == '/':\n",
        "    print(num1 / num2)\n",
        "\n",
        "  elif operator == '//':\n",
        "    print(num1 // num2)\n",
        "\n",
        "  elif operator == '%':\n",
        "    print(num1 % num2)\n",
        "\n",
        "  elif operator == '**':\n",
        "    print(num1 ** num2)\n",
        "\n",
        "\n",
        "\n",
        "\n",
        "\n",
        "\n",
        "\n"
      ],
      "metadata": {
        "colab": {
          "base_uri": "https://localhost:8080/"
        },
        "id": "MSq-1cYTpZrh",
        "outputId": "a1776be0-255f-4d2e-87ca-29b26a2160d8"
      },
      "execution_count": 32,
      "outputs": [
        {
          "name": "stdout",
          "output_type": "stream",
          "text": [
            "First Number: 5\n",
            "Mathematical operator: -\n",
            "Second Number: 7\n",
            "-2.0\n",
            "First Number: 5\n",
            "Mathematical operator: *\n",
            "Second Number: 6\n",
            "30.0\n",
            "First Number: 30\n",
            "Mathematical operator: /\n",
            "Second Number: 5\n",
            "6.0\n",
            "First Number: 30\n",
            "Mathematical operator: //\n",
            "Second Number: 5\n",
            "6.0\n",
            "First Number: 30\n",
            "Mathematical operator: %\n",
            "Second Number: 2\n",
            "0.0\n",
            "First Number: 3\n",
            "Mathematical operator: **\n",
            "Second Number: 2\n",
            "9.0\n",
            "First Number: 5\n",
            "Mathematical operator: break\n"
          ]
        }
      ]
    }
  ]
}
{
  "nbformat": 4,
  "nbformat_minor": 0,
  "metadata": {
    "colab": {
      "provenance": [],
      "authorship_tag": "ABX9TyPRvvEzQyHBUDhpXilaJZuP",
      "include_colab_link": true
    },
    "kernelspec": {
      "name": "python3",
      "display_name": "Python 3"
    },
    "language_info": {
      "name": "python"
    }
  },
  "cells": [
    {
      "cell_type": "markdown",
      "metadata": {
        "id": "view-in-github",
        "colab_type": "text"
      },
      "source": [
        "<a href=\"https://colab.research.google.com/github/MatthewHMullen/Matthew-Mullen-work/blob/main/ClassWorkExamples.ipynb\" target=\"_parent\"><img src=\"https://colab.research.google.com/assets/colab-badge.svg\" alt=\"Open In Colab\"/></a>"
      ]
    },
    {
      "cell_type": "markdown",
      "source": [
        "Rock Paper scissors game"
      ],
      "metadata": {
        "id": "FUjwMxY0mydp"
      }
    },
    {
      "cell_type": "code",
      "execution_count": null,
      "metadata": {
        "id": "zzHx2P75FhqZ"
      },
      "outputs": [],
      "source": [
        "import random\n",
        "pc_choice = random.choice(['Rock','Paper','Scissors'])\n",
        "\n",
        "userinput = input(\"Do you want to play Rock Paper Scissors? y/n: \")\n",
        "\n",
        "while userinput == \"y\" :\n",
        "\n",
        "  userchoice = inpuserinput = input(\"Choose Rock, Paper, or Scissors: \")\n",
        "\n",
        "  if userchoice == pc_choice:\n",
        "    print('Its a Tie')\n",
        "\n",
        "  elif ((userchoice == \"Rock\" and pc_choice == \"Scissors\") or\n",
        "        (userchoice == \"Scissors\" and pc_choice == \"Paper\") or\n",
        "        (userchoice == \"Paper\" and pc_choice == \"Rock\")):\n",
        "    print ('You Win!')\n",
        "\n",
        "  else:\n",
        "    print('Computer Wins :(')\n",
        "\n",
        "  userinput = input(\"Do you want to play Rock Paper Scissors again? y/n: \")\n",
        "\n",
        "else:\n",
        "  print(\"Play again soon!\")\n",
        "\n",
        "\n",
        "\n",
        "\n"
      ]
    },
    {
      "cell_type": "markdown",
      "source": [
        "Turtle example with loop"
      ],
      "metadata": {
        "id": "bb6mHaCHHmtM"
      }
    },
    {
      "cell_type": "code",
      "source": [
        "!pip install ColabTurtlePlus"
      ],
      "metadata": {
        "id": "54OIQ5gKhdil"
      },
      "execution_count": null,
      "outputs": []
    },
    {
      "cell_type": "code",
      "source": [
        "from ColabTurtlePlus.Turtle import *\n",
        "\n",
        "clearscreen()\n",
        "\n",
        "color('green','blue')\n",
        "begin_fill()\n",
        "jumpto(0,0)\n",
        "\n",
        "for var in range(4):\n",
        "  forward(100)\n",
        "  left(90)\n",
        "\n",
        "\n",
        "end_fill()"
      ],
      "metadata": {
        "id": "4B_2IWUph-Gq"
      },
      "execution_count": null,
      "outputs": []
    },
    {
      "cell_type": "markdown",
      "source": [
        "Parking Garage Fee Code"
      ],
      "metadata": {
        "id": "X_7kxAiI1bmX"
      }
    },
    {
      "cell_type": "code",
      "source": [
        "\n",
        "for hour in range (1,9):\n",
        "  hourly_fee = 2.50\n",
        "  base_fee = 5.0\n",
        "  fee = base_fee + hour * hourly_fee\n",
        "  if fee < 10.0:\n",
        "    fee = 10.0\n",
        "  elif fee > 20.0:\n",
        "    fee = 20.0\n",
        "  print(hour, 'hrs', '= $',fee)\n",
        "\n"
      ],
      "metadata": {
        "id": "Pb3toKyc1hD8"
      },
      "execution_count": null,
      "outputs": []
    },
    {
      "cell_type": "markdown",
      "source": [
        "Movie theater manager in class example: Advertising Cost"
      ],
      "metadata": {
        "id": "8AkMD01h70JX"
      }
    },
    {
      "cell_type": "code",
      "source": [
        "for ad_cost in range (0,201,25):\n",
        "  fixed_cost = 200\n",
        "  base_att = 20\n",
        "  ticket_price = 10\n",
        "  add_att = 2 * round(ad_cost ** .5)\n",
        "  profit = (base_att * ticket_price) + (add_att * ticket_price) - fixed_cost - ad_cost\n",
        "  print(ad_cost, profit)"
      ],
      "metadata": {
        "id": "d_6S_LP678T9"
      },
      "execution_count": null,
      "outputs": []
    },
    {
      "cell_type": "markdown",
      "source": [
        "Code a calculator"
      ],
      "metadata": {
        "id": "RCam3cL1pTFh"
      }
    },
    {
      "cell_type": "code",
      "source": [
        "while True:\n",
        "  num1 = float(input(\"First Number: \"))\n",
        "  operator = input(\"Mathematical operator: \")\n",
        "\n",
        "  if operator == 'break':\n",
        "    break\n",
        "\n",
        "  num2 = float(input(\"Second Number: \"))\n",
        "\n",
        "  if operator == '+':\n",
        "    print(num1 + num2)\n",
        "\n",
        "  elif operator == '-':\n",
        "    print(num1 - num2)\n",
        "\n",
        "  elif operator == '*':\n",
        "    print(num1 * num2)\n",
        "\n",
        "  elif operator == '/':\n",
        "    print(num1 / num2)\n",
        "\n",
        "  elif operator == '//':\n",
        "    print(num1 // num2)\n",
        "\n",
        "  elif operator == '%':\n",
        "    print(num1 % num2)\n",
        "\n",
        "  elif operator == '**':\n",
        "    print(num1 ** num2)\n",
        "\n",
        "  else:\n",
        "    print('invalid operator:',operator)\n",
        "\n",
        "\n",
        "\n",
        "\n",
        "\n",
        "\n",
        "\n",
        "\n"
      ],
      "metadata": {
        "id": "MSq-1cYTpZrh"
      },
      "execution_count": null,
      "outputs": []
    },
    {
      "cell_type": "markdown",
      "source": [
        "Indexing/slicing"
      ],
      "metadata": {
        "id": "SosvgDiXr6Ar"
      }
    },
    {
      "cell_type": "code",
      "source": [
        "s = 'This is a test'\n",
        "\n",
        "#slicing\n",
        "this_word = s[:4]\n",
        "\n",
        "test_word = s[10:]\n",
        "\n",
        "print(this_word, test_word)\n",
        "\n",
        "#decremental\n",
        "print(s[13], s[len(s) - 1], s[-1])\n",
        "\n",
        "#negative indexes\n",
        "print(s[11], s[-3])"
      ],
      "metadata": {
        "id": "4zWkfV7dAFj5"
      },
      "execution_count": null,
      "outputs": []
    },
    {
      "cell_type": "markdown",
      "source": [
        "Find the date using indexes/slicing"
      ],
      "metadata": {
        "id": "VNmO2_5i-64x"
      }
    },
    {
      "cell_type": "code",
      "source": [
        "date = input(\"Input a date, MM/DD/YYYY: \")\n",
        "\n",
        "month = int(date[:2])\n",
        "day = int(date[3:5])\n",
        "year = int(date[6:])\n",
        "\n",
        "print()\n",
        "print('The month is:', month)\n",
        "print('The day is:', day)\n",
        "print('The year is:', year)"
      ],
      "metadata": {
        "id": "CCgkvTud8xwU"
      },
      "execution_count": null,
      "outputs": []
    },
    {
      "cell_type": "markdown",
      "source": [
        "Finding common charachters between strings"
      ],
      "metadata": {
        "id": "xjfDgQPnUwb0"
      }
    },
    {
      "cell_type": "code",
      "source": [
        "s1 = 'abcdefg'\n",
        "s2 = 'abdght'\n",
        "\n",
        "for index in range(len(s1)):\n",
        "  if s1[index] in s2:\n",
        "    print(s1[index])\n",
        "\n",
        "\n"
      ],
      "metadata": {
        "id": "I09s0eTNU2fG"
      },
      "execution_count": null,
      "outputs": []
    },
    {
      "cell_type": "code",
      "source": [
        "s1 = 'abcdefg'\n",
        "s2 = 'abdght'\n",
        "\n",
        "for char in s1:\n",
        "  if char in s2:\n",
        "    print(char)"
      ],
      "metadata": {
        "id": "Lm_z1cwjWqVI"
      },
      "execution_count": null,
      "outputs": []
    },
    {
      "cell_type": "markdown",
      "source": [
        "Adding user value to a list"
      ],
      "metadata": {
        "id": "G6-9yJMgEEQg"
      }
    },
    {
      "cell_type": "code",
      "source": [
        "L = []\n",
        "\n",
        "num = int(input('Enter a value: '))\n",
        "\n",
        "while num != 0:\n",
        "  L.append(num)\n",
        "\n",
        "  num = int(input('Enter another value: '))\n",
        "\n",
        "L"
      ],
      "metadata": {
        "id": "Xo4csQ99EEgo"
      },
      "execution_count": null,
      "outputs": []
    },
    {
      "cell_type": "markdown",
      "source": [
        "Turn lists of months and values into dictionary"
      ],
      "metadata": {
        "id": "9Ods-1o-4tbY"
      }
    },
    {
      "cell_type": "code",
      "source": [
        "months = {}\n",
        "\n",
        "num = [1,2,3,4,5,6,7,8,9,10,11,12]\n",
        "name = [ 'Jan','Feb','Mar','Apr','May','Jun','Jul','Aug','Sep','Oct','Nov','Dec']\n",
        "\n",
        "for i in range(len(num)):\n",
        "  months[num[i]] = name[i]\n",
        "\n",
        "print(months)"
      ],
      "metadata": {
        "id": "six02L1i1Tjd"
      },
      "execution_count": null,
      "outputs": []
    },
    {
      "cell_type": "code",
      "source": [
        "months = {}\n",
        "\n",
        "numbers = [1,2,3,4,5,6,7,8,9,10,11,12]\n",
        "names = [ 'Jan','Feb','Mar','Apr','May','Jun','Jul','Aug','Sep','Oct','Nov','Dec']\n",
        "\n",
        "for num in numbers:\n",
        "  months[num] = names[num-1]\n",
        "\n",
        "print(months)"
      ],
      "metadata": {
        "id": "S3yTxMsS35gR"
      },
      "execution_count": null,
      "outputs": []
    },
    {
      "cell_type": "markdown",
      "source": [
        "Recursive Problems (Factorial of an integer)"
      ],
      "metadata": {
        "id": "Dx32uS-aEH5x"
      }
    },
    {
      "cell_type": "code",
      "source": [
        "def factorial(n):\n",
        "  if n == 1 or n == 0:\n",
        "    return 1\n",
        "  else:\n",
        "    return n * factorial(n-1)\n",
        "\n",
        "factorial(6)\n"
      ],
      "metadata": {
        "id": "gOZa3yxzEGv2"
      },
      "execution_count": null,
      "outputs": []
    },
    {
      "cell_type": "markdown",
      "source": [
        "Recursive Problems (perform a string reversal)"
      ],
      "metadata": {
        "id": "ufbo5BrWHv94"
      }
    },
    {
      "cell_type": "code",
      "source": [
        "def stringRev(s):\n",
        "  if len(s) == 1:\n",
        "    return s\n",
        "  else:\n",
        "    return s[-1] + stringRev(s[:-1])\n",
        "\n",
        "\n",
        "stringRev('orange')"
      ],
      "metadata": {
        "colab": {
          "base_uri": "https://localhost:8080/",
          "height": 35
        },
        "id": "fo_T_-dfHusK",
        "outputId": "d5fe9acf-d13b-4165-f9ba-2c6a1d67fcf8"
      },
      "execution_count": 9,
      "outputs": [
        {
          "output_type": "execute_result",
          "data": {
            "text/plain": [
              "'egnaro'"
            ],
            "application/vnd.google.colaboratory.intrinsic+json": {
              "type": "string"
            }
          },
          "metadata": {},
          "execution_count": 9
        }
      ]
    }
  ]
}
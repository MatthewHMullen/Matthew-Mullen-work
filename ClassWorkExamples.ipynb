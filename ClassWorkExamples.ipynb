{
  "nbformat": 4,
  "nbformat_minor": 0,
  "metadata": {
    "colab": {
      "provenance": [],
      "authorship_tag": "ABX9TyMSBfWg+khggbqBiTzn9Tsj",
      "include_colab_link": true
    },
    "kernelspec": {
      "name": "python3",
      "display_name": "Python 3"
    },
    "language_info": {
      "name": "python"
    }
  },
  "cells": [
    {
      "cell_type": "markdown",
      "metadata": {
        "id": "view-in-github",
        "colab_type": "text"
      },
      "source": [
        "<a href=\"https://colab.research.google.com/github/MatthewHMullen/Matthew-Mullen-work/blob/main/ClassWorkExamples.ipynb\" target=\"_parent\"><img src=\"https://colab.research.google.com/assets/colab-badge.svg\" alt=\"Open In Colab\"/></a>"
      ]
    },
    {
      "cell_type": "markdown",
      "source": [
        "Rock Paper scissors game"
      ],
      "metadata": {
        "id": "FUjwMxY0mydp"
      }
    },
    {
      "cell_type": "code",
      "execution_count": null,
      "metadata": {
        "colab": {
          "base_uri": "https://localhost:8080/",
          "height": 350
        },
        "id": "zzHx2P75FhqZ",
        "outputId": "def81aca-7bce-4799-f26a-a33f536f57b5"
      },
      "outputs": [
        {
          "output_type": "error",
          "ename": "KeyboardInterrupt",
          "evalue": "Interrupted by user",
          "traceback": [
            "\u001b[0;31m---------------------------------------------------------------------------\u001b[0m",
            "\u001b[0;31mKeyboardInterrupt\u001b[0m                         Traceback (most recent call last)",
            "\u001b[0;32m<ipython-input-2-081551e70e82>\u001b[0m in \u001b[0;36m<cell line: 4>\u001b[0;34m()\u001b[0m\n\u001b[1;32m      2\u001b[0m \u001b[0mpc_choice\u001b[0m \u001b[0;34m=\u001b[0m \u001b[0mrandom\u001b[0m\u001b[0;34m.\u001b[0m\u001b[0mchoice\u001b[0m\u001b[0;34m(\u001b[0m\u001b[0;34m[\u001b[0m\u001b[0;34m'Rock'\u001b[0m\u001b[0;34m,\u001b[0m\u001b[0;34m'Paper'\u001b[0m\u001b[0;34m,\u001b[0m\u001b[0;34m'Scissors'\u001b[0m\u001b[0;34m]\u001b[0m\u001b[0;34m)\u001b[0m\u001b[0;34m\u001b[0m\u001b[0;34m\u001b[0m\u001b[0m\n\u001b[1;32m      3\u001b[0m \u001b[0;34m\u001b[0m\u001b[0m\n\u001b[0;32m----> 4\u001b[0;31m \u001b[0muserinput\u001b[0m \u001b[0;34m=\u001b[0m \u001b[0minput\u001b[0m\u001b[0;34m(\u001b[0m\u001b[0;34m\"Do you want to play Rock Paper Scissors? y/n: \"\u001b[0m\u001b[0;34m)\u001b[0m\u001b[0;34m\u001b[0m\u001b[0;34m\u001b[0m\u001b[0m\n\u001b[0m\u001b[1;32m      5\u001b[0m \u001b[0;34m\u001b[0m\u001b[0m\n\u001b[1;32m      6\u001b[0m \u001b[0;32mwhile\u001b[0m \u001b[0muserinput\u001b[0m \u001b[0;34m==\u001b[0m \u001b[0;34m\"y\"\u001b[0m \u001b[0;34m:\u001b[0m\u001b[0;34m\u001b[0m\u001b[0;34m\u001b[0m\u001b[0m\n",
            "\u001b[0;32m/usr/local/lib/python3.10/dist-packages/ipykernel/kernelbase.py\u001b[0m in \u001b[0;36mraw_input\u001b[0;34m(self, prompt)\u001b[0m\n\u001b[1;32m    849\u001b[0m                 \u001b[0;34m\"raw_input was called, but this frontend does not support input requests.\"\u001b[0m\u001b[0;34m\u001b[0m\u001b[0;34m\u001b[0m\u001b[0m\n\u001b[1;32m    850\u001b[0m             )\n\u001b[0;32m--> 851\u001b[0;31m         return self._input_request(str(prompt),\n\u001b[0m\u001b[1;32m    852\u001b[0m             \u001b[0mself\u001b[0m\u001b[0;34m.\u001b[0m\u001b[0m_parent_ident\u001b[0m\u001b[0;34m,\u001b[0m\u001b[0;34m\u001b[0m\u001b[0;34m\u001b[0m\u001b[0m\n\u001b[1;32m    853\u001b[0m             \u001b[0mself\u001b[0m\u001b[0;34m.\u001b[0m\u001b[0m_parent_header\u001b[0m\u001b[0;34m,\u001b[0m\u001b[0;34m\u001b[0m\u001b[0;34m\u001b[0m\u001b[0m\n",
            "\u001b[0;32m/usr/local/lib/python3.10/dist-packages/ipykernel/kernelbase.py\u001b[0m in \u001b[0;36m_input_request\u001b[0;34m(self, prompt, ident, parent, password)\u001b[0m\n\u001b[1;32m    893\u001b[0m             \u001b[0;32mexcept\u001b[0m \u001b[0mKeyboardInterrupt\u001b[0m\u001b[0;34m:\u001b[0m\u001b[0;34m\u001b[0m\u001b[0;34m\u001b[0m\u001b[0m\n\u001b[1;32m    894\u001b[0m                 \u001b[0;31m# re-raise KeyboardInterrupt, to truncate traceback\u001b[0m\u001b[0;34m\u001b[0m\u001b[0;34m\u001b[0m\u001b[0m\n\u001b[0;32m--> 895\u001b[0;31m                 \u001b[0;32mraise\u001b[0m \u001b[0mKeyboardInterrupt\u001b[0m\u001b[0;34m(\u001b[0m\u001b[0;34m\"Interrupted by user\"\u001b[0m\u001b[0;34m)\u001b[0m \u001b[0;32mfrom\u001b[0m \u001b[0;32mNone\u001b[0m\u001b[0;34m\u001b[0m\u001b[0;34m\u001b[0m\u001b[0m\n\u001b[0m\u001b[1;32m    896\u001b[0m             \u001b[0;32mexcept\u001b[0m \u001b[0mException\u001b[0m \u001b[0;32mas\u001b[0m \u001b[0me\u001b[0m\u001b[0;34m:\u001b[0m\u001b[0;34m\u001b[0m\u001b[0;34m\u001b[0m\u001b[0m\n\u001b[1;32m    897\u001b[0m                 \u001b[0mself\u001b[0m\u001b[0;34m.\u001b[0m\u001b[0mlog\u001b[0m\u001b[0;34m.\u001b[0m\u001b[0mwarning\u001b[0m\u001b[0;34m(\u001b[0m\u001b[0;34m\"Invalid Message:\"\u001b[0m\u001b[0;34m,\u001b[0m \u001b[0mexc_info\u001b[0m\u001b[0;34m=\u001b[0m\u001b[0;32mTrue\u001b[0m\u001b[0;34m)\u001b[0m\u001b[0;34m\u001b[0m\u001b[0;34m\u001b[0m\u001b[0m\n",
            "\u001b[0;31mKeyboardInterrupt\u001b[0m: Interrupted by user"
          ]
        }
      ],
      "source": [
        "import random\n",
        "pc_choice = random.choice(['Rock','Paper','Scissors'])\n",
        "\n",
        "userinput = input(\"Do you want to play Rock Paper Scissors? y/n: \")\n",
        "\n",
        "while userinput == \"y\" :\n",
        "\n",
        "  userchoice = inpuserinput = input(\"Do you want to play Rock Paper Scissors? y/n: \")\n",
        "\n",
        "  if userchoice == pc_choice:\n",
        "    print('Its a Tie')\n",
        "\n",
        "  elif ((userchoice == \"Rock\" and pc_choice == \"Scissors\") or\n",
        "        (userchoice == \"Scissors\" and pc_choice == \"Paper\") or\n",
        "        (userchoice == \"Paper\" and pc_choice == \"Rock\")):\n",
        "    print ('You Win!')\n",
        "\n",
        "  else:\n",
        "    print('Computer Wins :(')\n",
        "\n",
        "  userinput = input(\"Do you want to play Rock Paper Scissors again? y/n: \")\n",
        "\n",
        "else:\n",
        "  print(\"Play again soon!\")\n",
        "\n",
        "\n",
        "\n",
        "\n"
      ]
    },
    {
      "cell_type": "code",
      "source": [
        "!pip install ColabTurtlePlus"
      ],
      "metadata": {
        "colab": {
          "base_uri": "https://localhost:8080/"
        },
        "id": "54OIQ5gKhdil",
        "outputId": "d08f540b-3ddf-442e-a4fb-7ae7c187785c"
      },
      "execution_count": null,
      "outputs": [
        {
          "output_type": "stream",
          "name": "stdout",
          "text": [
            "Collecting ColabTurtlePlus\n",
            "  Downloading ColabTurtlePlus-2.0.1-py3-none-any.whl (31 kB)\n",
            "Installing collected packages: ColabTurtlePlus\n",
            "Successfully installed ColabTurtlePlus-2.0.1\n"
          ]
        }
      ]
    },
    {
      "cell_type": "code",
      "source": [
        "from ColabTurtlePlus.Turtle import *\n",
        "\n",
        "clearscreen()\n",
        "\n",
        "color('green','blue')\n",
        "begin_fill()\n",
        "jumpto(0,0)\n",
        "\n",
        "for var in range(4):\n",
        "  forward(100)\n",
        "  left(90)\n",
        "\n",
        "\n",
        "end_fill()"
      ],
      "metadata": {
        "colab": {
          "base_uri": "https://localhost:8080/",
          "height": 621
        },
        "id": "4B_2IWUph-Gq",
        "outputId": "baacd0c9-fda8-4f06-dcf5-a99aff841d8d"
      },
      "execution_count": null,
      "outputs": [
        {
          "output_type": "display_data",
          "data": {
            "text/plain": [
              "<IPython.core.display.HTML object>"
            ],
            "text/html": [
              "\n",
              "      <svg width=\"800\" height=\"600\">  \n",
              "        <rect width=\"100%\" height=\"100%\" style=\"fill:white;stroke:;stroke-width:1\"/>\n",
              "        \n",
              "        \n",
              "        <path fill-rule=\"evenodd\" fill-opacity=\"1\" d=\"M 400.0 300.0  L 400.0 300.0  L 500.0 300.0  L 500.0 200.0  L 400.0 200.0  L 400.0 300.0 \" stroke-linecap=\"round\" style=\"stroke:green;stroke-width:1\" fill=\"blue\" />\n",
              "        \n",
              "        \n",
              "        <g id=\"classic\" visibility=\"visible\" transform=\"rotate(-90,400.0,300.0) translate(400.0, 300.0)\">\n",
              "<polygon points=\"-5,-4.5 0,-2.5 5,-4.5 0,4.5\" transform=\"skewX(0) scale(1,1)\" style=\"stroke:green;fill:blue;stroke-width:1\" />\n",
              "</g>\n",
              "      </svg>\n",
              "    "
            ]
          },
          "metadata": {}
        }
      ]
    },
    {
      "cell_type": "markdown",
      "source": [
        "Parking Garage Fee Code"
      ],
      "metadata": {
        "id": "X_7kxAiI1bmX"
      }
    },
    {
      "cell_type": "code",
      "source": [
        "\n",
        "for hour in range (1,9):\n",
        "  hourly_fee = 2.50\n",
        "  base_fee = 5.0\n",
        "  fee = base_fee + hour * hourly_fee\n",
        "  if fee < 10.0:\n",
        "    fee = 10.0\n",
        "  elif fee > 20.0:\n",
        "    fee = 20.0\n",
        "  print(hour, 'hrs', '= $',fee)\n",
        "\n"
      ],
      "metadata": {
        "colab": {
          "base_uri": "https://localhost:8080/"
        },
        "id": "Pb3toKyc1hD8",
        "outputId": "07b4b17f-a917-4315-b796-7147e419da40"
      },
      "execution_count": null,
      "outputs": [
        {
          "output_type": "stream",
          "name": "stdout",
          "text": [
            "1 hrs = $ 10.0\n",
            "2 hrs = $ 10.0\n",
            "3 hrs = $ 12.5\n",
            "4 hrs = $ 15.0\n",
            "5 hrs = $ 17.5\n",
            "6 hrs = $ 20.0\n",
            "7 hrs = $ 20.0\n",
            "8 hrs = $ 20.0\n"
          ]
        }
      ]
    },
    {
      "cell_type": "markdown",
      "source": [
        "Movie theater manager in class example: Advertising Cost"
      ],
      "metadata": {
        "id": "8AkMD01h70JX"
      }
    },
    {
      "cell_type": "code",
      "source": [
        "for ad_cost in range (0,201,25):\n",
        "  fixed_cost = 200\n",
        "  base_att = 20\n",
        "  ticket_price = 10\n",
        "  add_att = 2 * round(ad_cost ** .5)\n",
        "  profit = (base_att * ticket_price) + (add_att * ticket_price) - fixed_cost - ad_cost\n",
        "  print(ad_cost, profit)"
      ],
      "metadata": {
        "colab": {
          "base_uri": "https://localhost:8080/"
        },
        "id": "d_6S_LP678T9",
        "outputId": "e0c3ad20-0425-4103-c66c-1571cf0e43a6"
      },
      "execution_count": null,
      "outputs": [
        {
          "output_type": "stream",
          "name": "stdout",
          "text": [
            "0 0\n",
            "25 75\n",
            "50 90\n",
            "75 105\n",
            "100 100\n",
            "125 95\n",
            "150 90\n",
            "175 85\n",
            "200 80\n"
          ]
        }
      ]
    },
    {
      "cell_type": "markdown",
      "source": [
        "Code a calculator"
      ],
      "metadata": {
        "id": "RCam3cL1pTFh"
      }
    },
    {
      "cell_type": "code",
      "source": [
        "while True:\n",
        "  num1 = float(input(\"First Number: \"))\n",
        "  operator = input(\"Mathematical operator: \")\n",
        "\n",
        "  if operator == 'break':\n",
        "    break\n",
        "\n",
        "  num2 = float(input(\"Second Number: \"))\n",
        "\n",
        "  if operator == '+':\n",
        "    print(num1 + num2)\n",
        "\n",
        "  elif operator == '-':\n",
        "    print(num1 - num2)\n",
        "\n",
        "  elif operator == '*':\n",
        "    print(num1 * num2)\n",
        "\n",
        "  elif operator == '/':\n",
        "    print(num1 / num2)\n",
        "\n",
        "  elif operator == '//':\n",
        "    print(num1 // num2)\n",
        "\n",
        "  elif operator == '%':\n",
        "    print(num1 % num2)\n",
        "\n",
        "  elif operator == '**':\n",
        "    print(num1 ** num2)\n",
        "\n",
        "  else:\n",
        "    print('invalid operator:',operator)\n",
        "\n",
        "\n",
        "\n",
        "\n",
        "\n",
        "\n",
        "\n",
        "\n"
      ],
      "metadata": {
        "colab": {
          "base_uri": "https://localhost:8080/"
        },
        "id": "MSq-1cYTpZrh",
        "outputId": "5ea26b66-76c5-4a3c-ae59-655f891e9bd8"
      },
      "execution_count": null,
      "outputs": [
        {
          "name": "stdout",
          "output_type": "stream",
          "text": [
            "First Number: 4\n",
            "Mathematical operator: break\n"
          ]
        }
      ]
    },
    {
      "cell_type": "markdown",
      "source": [
        "Indexing/slicing"
      ],
      "metadata": {
        "id": "SosvgDiXr6Ar"
      }
    },
    {
      "cell_type": "code",
      "source": [
        "s = 'This is a test'\n",
        "\n",
        "#slicing\n",
        "this_word = s[:4]\n",
        "\n",
        "test_word = s[10:]\n",
        "\n",
        "print(this_word, test_word)\n",
        "\n",
        "#decremental\n",
        "print(s[13], s[len(s) - 1], s[-1])\n",
        "\n",
        "#negative indexes\n",
        "print(s[11], s[-3])"
      ],
      "metadata": {
        "colab": {
          "base_uri": "https://localhost:8080/"
        },
        "id": "4zWkfV7dAFj5",
        "outputId": "4671572a-49e3-43ab-dc66-d954c21a382a"
      },
      "execution_count": null,
      "outputs": [
        {
          "output_type": "stream",
          "name": "stdout",
          "text": [
            "This test\n",
            "t t t\n",
            "e e\n"
          ]
        }
      ]
    },
    {
      "cell_type": "markdown",
      "source": [
        "Find the date using indexes/slicing"
      ],
      "metadata": {
        "id": "VNmO2_5i-64x"
      }
    },
    {
      "cell_type": "code",
      "source": [
        "date = input(\"Input a date, MM/DD/YYYY: \")\n",
        "\n",
        "month = int(date[:2])\n",
        "day = int(date[3:5])\n",
        "year = int(date[6:])\n",
        "\n",
        "print()\n",
        "print('The month is:', month)\n",
        "print('The day is:', day)\n",
        "print('The year is:', year)"
      ],
      "metadata": {
        "colab": {
          "base_uri": "https://localhost:8080/"
        },
        "id": "CCgkvTud8xwU",
        "outputId": "2befde02-8d89-4c99-ba30-bd35123de22f"
      },
      "execution_count": null,
      "outputs": [
        {
          "output_type": "stream",
          "name": "stdout",
          "text": [
            "Input a date, MM/DD/YYYY: 02/21/2024\n",
            "\n",
            "The month is: 2\n",
            "The day is: 21\n",
            "The year is: 2024\n"
          ]
        }
      ]
    },
    {
      "cell_type": "markdown",
      "source": [
        "Finding common charachters between strings"
      ],
      "metadata": {
        "id": "xjfDgQPnUwb0"
      }
    },
    {
      "cell_type": "code",
      "source": [
        "s1 = 'abcdefg'\n",
        "s2 = 'abdght'\n",
        "\n",
        "for index in range(len(s1)):\n",
        "  if s1[index] in s2:\n",
        "    print(s1[index])\n",
        "\n",
        "\n"
      ],
      "metadata": {
        "colab": {
          "base_uri": "https://localhost:8080/"
        },
        "id": "I09s0eTNU2fG",
        "outputId": "a8fc3340-f40a-4a75-b7b3-47c7637ede45"
      },
      "execution_count": null,
      "outputs": [
        {
          "output_type": "stream",
          "name": "stdout",
          "text": [
            "a\n",
            "b\n",
            "d\n",
            "g\n"
          ]
        }
      ]
    },
    {
      "cell_type": "code",
      "source": [
        "s1 = 'abcdefg'\n",
        "s2 = 'abdght'\n",
        "\n",
        "for char in s1:\n",
        "  if char in s2:\n",
        "    print(char)"
      ],
      "metadata": {
        "colab": {
          "base_uri": "https://localhost:8080/"
        },
        "id": "Lm_z1cwjWqVI",
        "outputId": "131345e8-1339-4d86-cd77-248b3ed7dc4c"
      },
      "execution_count": null,
      "outputs": [
        {
          "output_type": "stream",
          "name": "stdout",
          "text": [
            "a\n",
            "b\n",
            "d\n",
            "g\n"
          ]
        }
      ]
    },
    {
      "cell_type": "markdown",
      "source": [
        "Adding user value to a list"
      ],
      "metadata": {
        "id": "G6-9yJMgEEQg"
      }
    },
    {
      "cell_type": "code",
      "source": [
        "L = []\n",
        "\n",
        "num = int(input('Enter a value: '))\n",
        "\n",
        "while num != 0:\n",
        "  L.append(num)\n",
        "\n",
        "  num = int(input('Enter another value: '))\n",
        "\n",
        "L"
      ],
      "metadata": {
        "colab": {
          "base_uri": "https://localhost:8080/"
        },
        "id": "Xo4csQ99EEgo",
        "outputId": "59238520-a818-4995-9770-0249ed366957"
      },
      "execution_count": 6,
      "outputs": [
        {
          "name": "stdout",
          "output_type": "stream",
          "text": [
            "Enter a value: 4\n",
            "Enter another value: 9\n",
            "Enter another value: 8\n",
            "Enter another value: 77\n",
            "Enter another value: 0\n"
          ]
        },
        {
          "output_type": "execute_result",
          "data": {
            "text/plain": [
              "[4, 9, 8, 77]"
            ]
          },
          "metadata": {},
          "execution_count": 6
        }
      ]
    }
  ]
}